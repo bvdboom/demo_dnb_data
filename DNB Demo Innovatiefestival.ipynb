{
 "cells": [
  {
   "cell_type": "markdown",
   "metadata": {},
   "source": [
    "# Playing with DNB data"
   ]
  },
  {
   "cell_type": "markdown",
   "metadata": {},
   "source": [
    "Today, we will be working with a public data set and a public data set that is published by DNB. We will use this Jupyter notebook to work with both code and rich text elements, such as figures, links, equations, ... Because of the mix of code and text elements, these documents are the ideal place to bring together an analysis description and its results as well as they can be executed perform the data analysis in real time.\n",
    "\n",
    "You will have to fill in the blanks at some points, run the code at others. You are free to change code or experiment. Make sure to ask us for help if you cannot come up with the solution or get stuck somewhere!"
   ]
  },
  {
   "cell_type": "markdown",
   "metadata": {},
   "source": [
    "---"
   ]
  },
  {
   "cell_type": "markdown",
   "metadata": {},
   "source": [
    "Some things you should know about the Jupyter notebook:\n",
    "\n",
    "Each block that you navigate using the up and down keys is called a cell\n",
    "* Hit [Shift+Enter] to execute a cell\n",
    "* Hit [Enter] to edit a cell in the Edit mode. Once you are done, hit [Escape] to come back into command mode\n",
    "* For a list of all shortcuts, when in command mode, hit [Ctrl+H]"
   ]
  },
  {
   "cell_type": "markdown",
   "metadata": {},
   "source": [
    "Try running the cell below using the methods suggested above. You can edit the text if you like."
   ]
  },
  {
   "cell_type": "code",
   "execution_count": null,
   "metadata": {},
   "outputs": [],
   "source": [
    "print('Hello World')"
   ]
  },
  {
   "cell_type": "markdown",
   "metadata": {},
   "source": [
    "---"
   ]
  },
  {
   "cell_type": "markdown",
   "metadata": {},
   "source": [
    "## Let's get started"
   ]
  },
  {
   "cell_type": "markdown",
   "metadata": {},
   "source": [
    "Great, now we're ready to start. First, we need some libraries that we use throughout this notebook. These libraries range from data analysis libraries such as Pandas to plotting libraries such as matplotlib. "
   ]
  },
  {
   "cell_type": "code",
   "execution_count": 132,
   "metadata": {},
   "outputs": [],
   "source": [
    "import pandas as pd\n",
    "import numpy as np\n",
    "from load_solvency import read_sheet\n",
    "from datetime import datetime\n",
    "%matplotlib inline\n",
    "import matplotlib.pyplot as plt\n",
    "plt.style.use('fast')\n",
    "plt.rcParams['figure.figsize'] = [12, 12]\n",
    "from sklearn.manifold import TSNE\n",
    "\n",
    "from keras.datasets import mnist\n",
    "from keras.models import Sequential\n",
    "from keras.layers.core import Dense, Dropout, Activation\n",
    "from keras.utils import np_utils\n",
    "\n",
    "\n",
    "\n",
    "from fbprophet import Prophet"
   ]
  },
  {
   "cell_type": "markdown",
   "metadata": {},
   "source": [
    "## Read in the data"
   ]
  },
  {
   "cell_type": "markdown",
   "metadata": {},
   "source": [
    "Before moving on to analysis, we need to load the data first from the internet and shape it into the right format. Let's read in data on the Euribor, the Euro Interbank Offer Rate*. We will first define the url that points to the data that we need and then use it to read the data into a Pandas dataframe."
   ]
  },
  {
   "cell_type": "code",
   "execution_count": 11,
   "metadata": {},
   "outputs": [],
   "source": [
    "url = 'https://www.emmi-benchmarks.eu/assets/modules/rateisblue/file_processing/publication/processed/hist_EURIBOR_2018.csv' "
   ]
  },
  {
   "cell_type": "code",
   "execution_count": 12,
   "metadata": {},
   "outputs": [],
   "source": [
    "euribor = pd.read_csv(url, index_col=[0])"
   ]
  },
  {
   "cell_type": "markdown",
   "metadata": {},
   "source": [
    "Let's take a look at the first 10 rows."
   ]
  },
  {
   "cell_type": "code",
   "execution_count": 13,
   "metadata": {},
   "outputs": [
    {
     "data": {
      "text/html": [
       "<div>\n",
       "<style scoped>\n",
       "    .dataframe tbody tr th:only-of-type {\n",
       "        vertical-align: middle;\n",
       "    }\n",
       "\n",
       "    .dataframe tbody tr th {\n",
       "        vertical-align: top;\n",
       "    }\n",
       "\n",
       "    .dataframe thead th {\n",
       "        text-align: right;\n",
       "    }\n",
       "</style>\n",
       "<table border=\"1\" class=\"dataframe\">\n",
       "  <thead>\n",
       "    <tr style=\"text-align: right;\">\n",
       "      <th></th>\n",
       "      <th>02/01/2018</th>\n",
       "      <th>03/01/2018</th>\n",
       "      <th>04/01/2018</th>\n",
       "      <th>05/01/2018</th>\n",
       "      <th>08/01/2018</th>\n",
       "      <th>09/01/2018</th>\n",
       "      <th>10/01/2018</th>\n",
       "      <th>11/01/2018</th>\n",
       "      <th>12/01/2018</th>\n",
       "      <th>15/01/2018</th>\n",
       "      <th>...</th>\n",
       "      <th>14/12/2018</th>\n",
       "      <th>17/12/2018</th>\n",
       "      <th>18/12/2018</th>\n",
       "      <th>19/12/2018</th>\n",
       "      <th>20/12/2018</th>\n",
       "      <th>21/12/2018</th>\n",
       "      <th>24/12/2018</th>\n",
       "      <th>27/12/2018</th>\n",
       "      <th>28/12/2018</th>\n",
       "      <th>31/12/2018</th>\n",
       "    </tr>\n",
       "  </thead>\n",
       "  <tbody>\n",
       "    <tr>\n",
       "      <th>1w</th>\n",
       "      <td>-0.379</td>\n",
       "      <td>-0.379</td>\n",
       "      <td>-0.378</td>\n",
       "      <td>-0.379</td>\n",
       "      <td>-0.379</td>\n",
       "      <td>-0.379</td>\n",
       "      <td>-0.379</td>\n",
       "      <td>-0.379</td>\n",
       "      <td>-0.379</td>\n",
       "      <td>-0.379</td>\n",
       "      <td>...</td>\n",
       "      <td>-0.378</td>\n",
       "      <td>-0.378</td>\n",
       "      <td>-0.378</td>\n",
       "      <td>-0.378</td>\n",
       "      <td>-0.379</td>\n",
       "      <td>-0.376</td>\n",
       "      <td>-0.375</td>\n",
       "      <td>-0.374</td>\n",
       "      <td>-0.373</td>\n",
       "      <td>-0.373</td>\n",
       "    </tr>\n",
       "    <tr>\n",
       "      <th>2w</th>\n",
       "      <td>-0.373</td>\n",
       "      <td>-0.374</td>\n",
       "      <td>-0.371</td>\n",
       "      <td>-0.374</td>\n",
       "      <td>-0.374</td>\n",
       "      <td>-0.375</td>\n",
       "      <td>-0.374</td>\n",
       "      <td>-0.374</td>\n",
       "      <td>-0.373</td>\n",
       "      <td>-0.373</td>\n",
       "      <td>...</td>\n",
       "      <td>NaN</td>\n",
       "      <td>NaN</td>\n",
       "      <td>NaN</td>\n",
       "      <td>NaN</td>\n",
       "      <td>NaN</td>\n",
       "      <td>NaN</td>\n",
       "      <td>NaN</td>\n",
       "      <td>NaN</td>\n",
       "      <td>NaN</td>\n",
       "      <td>NaN</td>\n",
       "    </tr>\n",
       "    <tr>\n",
       "      <th>1m</th>\n",
       "      <td>-0.368</td>\n",
       "      <td>-0.368</td>\n",
       "      <td>-0.368</td>\n",
       "      <td>-0.369</td>\n",
       "      <td>-0.368</td>\n",
       "      <td>-0.369</td>\n",
       "      <td>-0.369</td>\n",
       "      <td>-0.369</td>\n",
       "      <td>-0.369</td>\n",
       "      <td>-0.369</td>\n",
       "      <td>...</td>\n",
       "      <td>-0.368</td>\n",
       "      <td>-0.369</td>\n",
       "      <td>-0.369</td>\n",
       "      <td>-0.369</td>\n",
       "      <td>-0.367</td>\n",
       "      <td>-0.366</td>\n",
       "      <td>-0.365</td>\n",
       "      <td>-0.364</td>\n",
       "      <td>-0.364</td>\n",
       "      <td>-0.363</td>\n",
       "    </tr>\n",
       "    <tr>\n",
       "      <th>2m</th>\n",
       "      <td>-0.340</td>\n",
       "      <td>-0.341</td>\n",
       "      <td>-0.339</td>\n",
       "      <td>-0.340</td>\n",
       "      <td>-0.341</td>\n",
       "      <td>-0.341</td>\n",
       "      <td>-0.341</td>\n",
       "      <td>-0.341</td>\n",
       "      <td>-0.341</td>\n",
       "      <td>-0.341</td>\n",
       "      <td>...</td>\n",
       "      <td>NaN</td>\n",
       "      <td>NaN</td>\n",
       "      <td>NaN</td>\n",
       "      <td>NaN</td>\n",
       "      <td>NaN</td>\n",
       "      <td>NaN</td>\n",
       "      <td>NaN</td>\n",
       "      <td>NaN</td>\n",
       "      <td>NaN</td>\n",
       "      <td>NaN</td>\n",
       "    </tr>\n",
       "    <tr>\n",
       "      <th>3m</th>\n",
       "      <td>-0.329</td>\n",
       "      <td>-0.329</td>\n",
       "      <td>-0.329</td>\n",
       "      <td>-0.329</td>\n",
       "      <td>-0.329</td>\n",
       "      <td>-0.329</td>\n",
       "      <td>-0.329</td>\n",
       "      <td>-0.329</td>\n",
       "      <td>-0.329</td>\n",
       "      <td>-0.329</td>\n",
       "      <td>...</td>\n",
       "      <td>-0.311</td>\n",
       "      <td>-0.311</td>\n",
       "      <td>-0.311</td>\n",
       "      <td>-0.309</td>\n",
       "      <td>-0.310</td>\n",
       "      <td>-0.310</td>\n",
       "      <td>-0.309</td>\n",
       "      <td>-0.309</td>\n",
       "      <td>-0.310</td>\n",
       "      <td>-0.309</td>\n",
       "    </tr>\n",
       "    <tr>\n",
       "      <th>6m</th>\n",
       "      <td>-0.271</td>\n",
       "      <td>-0.271</td>\n",
       "      <td>-0.271</td>\n",
       "      <td>-0.271</td>\n",
       "      <td>-0.271</td>\n",
       "      <td>-0.271</td>\n",
       "      <td>-0.271</td>\n",
       "      <td>-0.271</td>\n",
       "      <td>-0.271</td>\n",
       "      <td>-0.274</td>\n",
       "      <td>...</td>\n",
       "      <td>-0.238</td>\n",
       "      <td>-0.237</td>\n",
       "      <td>-0.238</td>\n",
       "      <td>-0.238</td>\n",
       "      <td>-0.238</td>\n",
       "      <td>-0.238</td>\n",
       "      <td>-0.237</td>\n",
       "      <td>-0.237</td>\n",
       "      <td>-0.236</td>\n",
       "      <td>-0.237</td>\n",
       "    </tr>\n",
       "    <tr>\n",
       "      <th>9m</th>\n",
       "      <td>-0.217</td>\n",
       "      <td>-0.219</td>\n",
       "      <td>-0.220</td>\n",
       "      <td>-0.219</td>\n",
       "      <td>-0.220</td>\n",
       "      <td>-0.219</td>\n",
       "      <td>-0.220</td>\n",
       "      <td>-0.217</td>\n",
       "      <td>-0.216</td>\n",
       "      <td>-0.221</td>\n",
       "      <td>...</td>\n",
       "      <td>NaN</td>\n",
       "      <td>NaN</td>\n",
       "      <td>NaN</td>\n",
       "      <td>NaN</td>\n",
       "      <td>NaN</td>\n",
       "      <td>NaN</td>\n",
       "      <td>NaN</td>\n",
       "      <td>NaN</td>\n",
       "      <td>NaN</td>\n",
       "      <td>NaN</td>\n",
       "    </tr>\n",
       "    <tr>\n",
       "      <th>12m</th>\n",
       "      <td>-0.186</td>\n",
       "      <td>-0.187</td>\n",
       "      <td>-0.187</td>\n",
       "      <td>-0.187</td>\n",
       "      <td>-0.187</td>\n",
       "      <td>-0.187</td>\n",
       "      <td>-0.186</td>\n",
       "      <td>-0.188</td>\n",
       "      <td>-0.186</td>\n",
       "      <td>-0.187</td>\n",
       "      <td>...</td>\n",
       "      <td>-0.128</td>\n",
       "      <td>-0.127</td>\n",
       "      <td>-0.125</td>\n",
       "      <td>-0.124</td>\n",
       "      <td>-0.121</td>\n",
       "      <td>-0.119</td>\n",
       "      <td>-0.118</td>\n",
       "      <td>-0.119</td>\n",
       "      <td>-0.119</td>\n",
       "      <td>-0.117</td>\n",
       "    </tr>\n",
       "  </tbody>\n",
       "</table>\n",
       "<p>8 rows × 255 columns</p>\n",
       "</div>"
      ],
      "text/plain": [
       "     02/01/2018  03/01/2018  04/01/2018  05/01/2018  08/01/2018  09/01/2018  \\\n",
       "1w       -0.379      -0.379      -0.378      -0.379      -0.379      -0.379   \n",
       "2w       -0.373      -0.374      -0.371      -0.374      -0.374      -0.375   \n",
       "1m       -0.368      -0.368      -0.368      -0.369      -0.368      -0.369   \n",
       "2m       -0.340      -0.341      -0.339      -0.340      -0.341      -0.341   \n",
       "3m       -0.329      -0.329      -0.329      -0.329      -0.329      -0.329   \n",
       "6m       -0.271      -0.271      -0.271      -0.271      -0.271      -0.271   \n",
       "9m       -0.217      -0.219      -0.220      -0.219      -0.220      -0.219   \n",
       "12m      -0.186      -0.187      -0.187      -0.187      -0.187      -0.187   \n",
       "\n",
       "     10/01/2018  11/01/2018  12/01/2018  15/01/2018     ...      14/12/2018  \\\n",
       "1w       -0.379      -0.379      -0.379      -0.379     ...          -0.378   \n",
       "2w       -0.374      -0.374      -0.373      -0.373     ...             NaN   \n",
       "1m       -0.369      -0.369      -0.369      -0.369     ...          -0.368   \n",
       "2m       -0.341      -0.341      -0.341      -0.341     ...             NaN   \n",
       "3m       -0.329      -0.329      -0.329      -0.329     ...          -0.311   \n",
       "6m       -0.271      -0.271      -0.271      -0.274     ...          -0.238   \n",
       "9m       -0.220      -0.217      -0.216      -0.221     ...             NaN   \n",
       "12m      -0.186      -0.188      -0.186      -0.187     ...          -0.128   \n",
       "\n",
       "     17/12/2018  18/12/2018  19/12/2018  20/12/2018  21/12/2018  24/12/2018  \\\n",
       "1w       -0.378      -0.378      -0.378      -0.379      -0.376      -0.375   \n",
       "2w          NaN         NaN         NaN         NaN         NaN         NaN   \n",
       "1m       -0.369      -0.369      -0.369      -0.367      -0.366      -0.365   \n",
       "2m          NaN         NaN         NaN         NaN         NaN         NaN   \n",
       "3m       -0.311      -0.311      -0.309      -0.310      -0.310      -0.309   \n",
       "6m       -0.237      -0.238      -0.238      -0.238      -0.238      -0.237   \n",
       "9m          NaN         NaN         NaN         NaN         NaN         NaN   \n",
       "12m      -0.127      -0.125      -0.124      -0.121      -0.119      -0.118   \n",
       "\n",
       "     27/12/2018  28/12/2018  31/12/2018  \n",
       "1w       -0.374      -0.373      -0.373  \n",
       "2w          NaN         NaN         NaN  \n",
       "1m       -0.364      -0.364      -0.363  \n",
       "2m          NaN         NaN         NaN  \n",
       "3m       -0.309      -0.310      -0.309  \n",
       "6m       -0.237      -0.236      -0.237  \n",
       "9m          NaN         NaN         NaN  \n",
       "12m      -0.119      -0.119      -0.117  \n",
       "\n",
       "[8 rows x 255 columns]"
      ]
     },
     "execution_count": 13,
     "metadata": {},
     "output_type": "execute_result"
    }
   ],
   "source": [
    "euribor.head(10)"
   ]
  },
  {
   "cell_type": "markdown",
   "metadata": {},
   "source": [
    "Personally, I think it makes more sense to transpose the dataframe. "
   ]
  },
  {
   "cell_type": "code",
   "execution_count": 14,
   "metadata": {},
   "outputs": [],
   "source": [
    "euribor = euribor.T"
   ]
  },
  {
   "cell_type": "code",
   "execution_count": 15,
   "metadata": {},
   "outputs": [
    {
     "data": {
      "text/html": [
       "<div>\n",
       "<style scoped>\n",
       "    .dataframe tbody tr th:only-of-type {\n",
       "        vertical-align: middle;\n",
       "    }\n",
       "\n",
       "    .dataframe tbody tr th {\n",
       "        vertical-align: top;\n",
       "    }\n",
       "\n",
       "    .dataframe thead th {\n",
       "        text-align: right;\n",
       "    }\n",
       "</style>\n",
       "<table border=\"1\" class=\"dataframe\">\n",
       "  <thead>\n",
       "    <tr style=\"text-align: right;\">\n",
       "      <th></th>\n",
       "      <th>1w</th>\n",
       "      <th>2w</th>\n",
       "      <th>1m</th>\n",
       "      <th>2m</th>\n",
       "      <th>3m</th>\n",
       "      <th>6m</th>\n",
       "      <th>9m</th>\n",
       "      <th>12m</th>\n",
       "    </tr>\n",
       "  </thead>\n",
       "  <tbody>\n",
       "    <tr>\n",
       "      <th>02/01/2018</th>\n",
       "      <td>-0.379</td>\n",
       "      <td>-0.373</td>\n",
       "      <td>-0.368</td>\n",
       "      <td>-0.340</td>\n",
       "      <td>-0.329</td>\n",
       "      <td>-0.271</td>\n",
       "      <td>-0.217</td>\n",
       "      <td>-0.186</td>\n",
       "    </tr>\n",
       "    <tr>\n",
       "      <th>03/01/2018</th>\n",
       "      <td>-0.379</td>\n",
       "      <td>-0.374</td>\n",
       "      <td>-0.368</td>\n",
       "      <td>-0.341</td>\n",
       "      <td>-0.329</td>\n",
       "      <td>-0.271</td>\n",
       "      <td>-0.219</td>\n",
       "      <td>-0.187</td>\n",
       "    </tr>\n",
       "    <tr>\n",
       "      <th>04/01/2018</th>\n",
       "      <td>-0.378</td>\n",
       "      <td>-0.371</td>\n",
       "      <td>-0.368</td>\n",
       "      <td>-0.339</td>\n",
       "      <td>-0.329</td>\n",
       "      <td>-0.271</td>\n",
       "      <td>-0.220</td>\n",
       "      <td>-0.187</td>\n",
       "    </tr>\n",
       "  </tbody>\n",
       "</table>\n",
       "</div>"
      ],
      "text/plain": [
       "               1w     2w     1m     2m     3m     6m     9m    12m\n",
       "02/01/2018 -0.379 -0.373 -0.368 -0.340 -0.329 -0.271 -0.217 -0.186\n",
       "03/01/2018 -0.379 -0.374 -0.368 -0.341 -0.329 -0.271 -0.219 -0.187\n",
       "04/01/2018 -0.378 -0.371 -0.368 -0.339 -0.329 -0.271 -0.220 -0.187"
      ]
     },
     "execution_count": 15,
     "metadata": {},
     "output_type": "execute_result"
    }
   ],
   "source": [
    "euribor.head(3)"
   ]
  },
  {
   "cell_type": "markdown",
   "metadata": {},
   "source": [
    "There is a convenient function called ``describe()`` that automatically calculates some basic statistics on the ``euribor`` data set."
   ]
  },
  {
   "cell_type": "markdown",
   "metadata": {},
   "source": [
    "Usually, date columns are not parsed automatically, so we need to tell pandas to store the index column in date format. "
   ]
  },
  {
   "cell_type": "code",
   "execution_count": 16,
   "metadata": {},
   "outputs": [],
   "source": [
    "euribor.index = pd.to_datetime(euribor.index, dayfirst=True)"
   ]
  },
  {
   "cell_type": "code",
   "execution_count": 17,
   "metadata": {},
   "outputs": [
    {
     "data": {
      "text/html": [
       "<div>\n",
       "<style scoped>\n",
       "    .dataframe tbody tr th:only-of-type {\n",
       "        vertical-align: middle;\n",
       "    }\n",
       "\n",
       "    .dataframe tbody tr th {\n",
       "        vertical-align: top;\n",
       "    }\n",
       "\n",
       "    .dataframe thead th {\n",
       "        text-align: right;\n",
       "    }\n",
       "</style>\n",
       "<table border=\"1\" class=\"dataframe\">\n",
       "  <thead>\n",
       "    <tr style=\"text-align: right;\">\n",
       "      <th></th>\n",
       "      <th>1w</th>\n",
       "      <th>2w</th>\n",
       "      <th>1m</th>\n",
       "      <th>2m</th>\n",
       "      <th>3m</th>\n",
       "      <th>6m</th>\n",
       "      <th>9m</th>\n",
       "      <th>12m</th>\n",
       "    </tr>\n",
       "  </thead>\n",
       "  <tbody>\n",
       "    <tr>\n",
       "      <th>count</th>\n",
       "      <td>255.000000</td>\n",
       "      <td>236.000000</td>\n",
       "      <td>255.000000</td>\n",
       "      <td>236.000000</td>\n",
       "      <td>255.000000</td>\n",
       "      <td>255.000000</td>\n",
       "      <td>236.000000</td>\n",
       "      <td>255.000000</td>\n",
       "    </tr>\n",
       "    <tr>\n",
       "      <th>mean</th>\n",
       "      <td>-0.377871</td>\n",
       "      <td>-0.372686</td>\n",
       "      <td>-0.369804</td>\n",
       "      <td>-0.338894</td>\n",
       "      <td>-0.322086</td>\n",
       "      <td>-0.266384</td>\n",
       "      <td>-0.213305</td>\n",
       "      <td>-0.173024</td>\n",
       "    </tr>\n",
       "    <tr>\n",
       "      <th>std</th>\n",
       "      <td>0.001494</td>\n",
       "      <td>0.002415</td>\n",
       "      <td>0.001442</td>\n",
       "      <td>0.001889</td>\n",
       "      <td>0.005400</td>\n",
       "      <td>0.008891</td>\n",
       "      <td>0.008337</td>\n",
       "      <td>0.019428</td>\n",
       "    </tr>\n",
       "    <tr>\n",
       "      <th>min</th>\n",
       "      <td>-0.381000</td>\n",
       "      <td>-0.379000</td>\n",
       "      <td>-0.372000</td>\n",
       "      <td>-0.342000</td>\n",
       "      <td>-0.329000</td>\n",
       "      <td>-0.279000</td>\n",
       "      <td>-0.224000</td>\n",
       "      <td>-0.193000</td>\n",
       "    </tr>\n",
       "    <tr>\n",
       "      <th>25%</th>\n",
       "      <td>-0.379000</td>\n",
       "      <td>-0.374000</td>\n",
       "      <td>-0.371000</td>\n",
       "      <td>-0.341000</td>\n",
       "      <td>-0.328000</td>\n",
       "      <td>-0.271000</td>\n",
       "      <td>-0.220000</td>\n",
       "      <td>-0.189000</td>\n",
       "    </tr>\n",
       "    <tr>\n",
       "      <th>50%</th>\n",
       "      <td>-0.378000</td>\n",
       "      <td>-0.372000</td>\n",
       "      <td>-0.370000</td>\n",
       "      <td>-0.339000</td>\n",
       "      <td>-0.321000</td>\n",
       "      <td>-0.269000</td>\n",
       "      <td>-0.216000</td>\n",
       "      <td>-0.181000</td>\n",
       "    </tr>\n",
       "    <tr>\n",
       "      <th>75%</th>\n",
       "      <td>-0.377000</td>\n",
       "      <td>-0.371000</td>\n",
       "      <td>-0.369000</td>\n",
       "      <td>-0.337000</td>\n",
       "      <td>-0.318000</td>\n",
       "      <td>-0.266000</td>\n",
       "      <td>-0.207000</td>\n",
       "      <td>-0.159000</td>\n",
       "    </tr>\n",
       "    <tr>\n",
       "      <th>max</th>\n",
       "      <td>-0.373000</td>\n",
       "      <td>-0.369000</td>\n",
       "      <td>-0.363000</td>\n",
       "      <td>-0.336000</td>\n",
       "      <td>-0.309000</td>\n",
       "      <td>-0.236000</td>\n",
       "      <td>-0.194000</td>\n",
       "      <td>-0.117000</td>\n",
       "    </tr>\n",
       "  </tbody>\n",
       "</table>\n",
       "</div>"
      ],
      "text/plain": [
       "               1w          2w          1m          2m          3m          6m  \\\n",
       "count  255.000000  236.000000  255.000000  236.000000  255.000000  255.000000   \n",
       "mean    -0.377871   -0.372686   -0.369804   -0.338894   -0.322086   -0.266384   \n",
       "std      0.001494    0.002415    0.001442    0.001889    0.005400    0.008891   \n",
       "min     -0.381000   -0.379000   -0.372000   -0.342000   -0.329000   -0.279000   \n",
       "25%     -0.379000   -0.374000   -0.371000   -0.341000   -0.328000   -0.271000   \n",
       "50%     -0.378000   -0.372000   -0.370000   -0.339000   -0.321000   -0.269000   \n",
       "75%     -0.377000   -0.371000   -0.369000   -0.337000   -0.318000   -0.266000   \n",
       "max     -0.373000   -0.369000   -0.363000   -0.336000   -0.309000   -0.236000   \n",
       "\n",
       "               9m         12m  \n",
       "count  236.000000  255.000000  \n",
       "mean    -0.213305   -0.173024  \n",
       "std      0.008337    0.019428  \n",
       "min     -0.224000   -0.193000  \n",
       "25%     -0.220000   -0.189000  \n",
       "50%     -0.216000   -0.181000  \n",
       "75%     -0.207000   -0.159000  \n",
       "max     -0.194000   -0.117000  "
      ]
     },
     "execution_count": 17,
     "metadata": {},
     "output_type": "execute_result"
    }
   ],
   "source": [
    "euribor.describe()"
   ]
  },
  {
   "cell_type": "markdown",
   "metadata": {},
   "source": [
    "## Visualize the data"
   ]
  },
  {
   "cell_type": "markdown",
   "metadata": {},
   "source": [
    "Let's take a visual look at the data."
   ]
  },
  {
   "cell_type": "code",
   "execution_count": 78,
   "metadata": {},
   "outputs": [
    {
     "data": {
      "text/plain": [
       "<matplotlib.axes._subplots.AxesSubplot at 0x12d093630>"
      ]
     },
     "execution_count": 78,
     "metadata": {},
     "output_type": "execute_result"
    },
    {
     "data": {
      "image/png": "[encoded data removed]",
      "text/plain": [
       "<Figure size 864x864 with 1 Axes>"
      ]
     },
     "metadata": {
      "needs_background": "light"
     },
     "output_type": "display_data"
    }
   ],
   "source": [
    "euribor.plot(ylim=[-0.5,0], lw=2)"
   ]
  },
  {
   "cell_type": "markdown",
   "metadata": {},
   "source": [
    "## Predict the future benchmark rate"
   ]
  },
  {
   "cell_type": "markdown",
   "metadata": {},
   "source": [
    "Maybe we would want to forecast how one of the benchmark rates will move in the future. One well-known way of doing this, would be using an [ARIMA model](https://en.wikipedia.org/wiki/Autoregressive_integrated_moving_average) to do 'time series forecasting'. Another way that we will use here is a forecasting method that was developed by Facebook called [Prophet](https://facebook.github.io/prophet/), which they use in production. Be sure to read their paper if you are interested to find out the technical details. In this notebook, you will see how easy it is to use the model."
   ]
  },
  {
   "cell_type": "markdown",
   "metadata": {},
   "source": [
    "Say we would like to know what the 1 year euribor will do in the future based on the data we have just loaded in. We first need to get the data in the right format for Prophet to be able to use the data: it expects a Dataframe with one column `ds` and one column `y`, for the dates and rates respectively. "
   ]
  },
  {
   "cell_type": "code",
   "execution_count": 19,
   "metadata": {},
   "outputs": [],
   "source": [
    "df = euribor['12m'].reset_index() # to convert the index column to a 'regular' column\n",
    "df.columns = ['ds', 'y']"
   ]
  },
  {
   "cell_type": "code",
   "execution_count": 20,
   "metadata": {},
   "outputs": [
    {
     "data": {
      "text/html": [
       "<div>\n",
       "<style scoped>\n",
       "    .dataframe tbody tr th:only-of-type {\n",
       "        vertical-align: middle;\n",
       "    }\n",
       "\n",
       "    .dataframe tbody tr th {\n",
       "        vertical-align: top;\n",
       "    }\n",
       "\n",
       "    .dataframe thead th {\n",
       "        text-align: right;\n",
       "    }\n",
       "</style>\n",
       "<table border=\"1\" class=\"dataframe\">\n",
       "  <thead>\n",
       "    <tr style=\"text-align: right;\">\n",
       "      <th></th>\n",
       "      <th>ds</th>\n",
       "      <th>y</th>\n",
       "    </tr>\n",
       "  </thead>\n",
       "  <tbody>\n",
       "    <tr>\n",
       "      <th>0</th>\n",
       "      <td>2018-01-02</td>\n",
       "      <td>-0.186</td>\n",
       "    </tr>\n",
       "    <tr>\n",
       "      <th>1</th>\n",
       "      <td>2018-01-03</td>\n",
       "      <td>-0.187</td>\n",
       "    </tr>\n",
       "    <tr>\n",
       "      <th>2</th>\n",
       "      <td>2018-01-04</td>\n",
       "      <td>-0.187</td>\n",
       "    </tr>\n",
       "    <tr>\n",
       "      <th>3</th>\n",
       "      <td>2018-01-05</td>\n",
       "      <td>-0.187</td>\n",
       "    </tr>\n",
       "    <tr>\n",
       "      <th>4</th>\n",
       "      <td>2018-01-08</td>\n",
       "      <td>-0.187</td>\n",
       "    </tr>\n",
       "  </tbody>\n",
       "</table>\n",
       "</div>"
      ],
      "text/plain": [
       "          ds      y\n",
       "0 2018-01-02 -0.186\n",
       "1 2018-01-03 -0.187\n",
       "2 2018-01-04 -0.187\n",
       "3 2018-01-05 -0.187\n",
       "4 2018-01-08 -0.187"
      ]
     },
     "execution_count": 20,
     "metadata": {},
     "output_type": "execute_result"
    }
   ],
   "source": [
    "df.head(5)"
   ]
  },
  {
   "cell_type": "markdown",
   "metadata": {},
   "source": [
    "We can now initialize the model and fit it to our prepared data set `df`."
   ]
  },
  {
   "cell_type": "code",
   "execution_count": 21,
   "metadata": {},
   "outputs": [
    {
     "name": "stderr",
     "output_type": "stream",
     "text": [
      "INFO:fbprophet:Disabling yearly seasonality. Run prophet with yearly_seasonality=True to override this.\n",
      "INFO:fbprophet:Disabling daily seasonality. Run prophet with daily_seasonality=True to override this.\n"
     ]
    },
    {
     "data": {
      "text/plain": [
       "<fbprophet.forecaster.Prophet at 0x12cbb3048>"
      ]
     },
     "execution_count": 21,
     "metadata": {},
     "output_type": "execute_result"
    }
   ],
   "source": [
    "m = Prophet()\n",
    "m.fit(df)"
   ]
  },
  {
   "cell_type": "markdown",
   "metadata": {},
   "source": [
    "The model is now trained on our data. Let's create a dataframe 180 days in the future to predict the future rate."
   ]
  },
  {
   "cell_type": "code",
   "execution_count": 22,
   "metadata": {},
   "outputs": [
    {
     "data": {
      "text/html": [
       "<div>\n",
       "<style scoped>\n",
       "    .dataframe tbody tr th:only-of-type {\n",
       "        vertical-align: middle;\n",
       "    }\n",
       "\n",
       "    .dataframe tbody tr th {\n",
       "        vertical-align: top;\n",
       "    }\n",
       "\n",
       "    .dataframe thead th {\n",
       "        text-align: right;\n",
       "    }\n",
       "</style>\n",
       "<table border=\"1\" class=\"dataframe\">\n",
       "  <thead>\n",
       "    <tr style=\"text-align: right;\">\n",
       "      <th></th>\n",
       "      <th>ds</th>\n",
       "    </tr>\n",
       "  </thead>\n",
       "  <tbody>\n",
       "    <tr>\n",
       "      <th>430</th>\n",
       "      <td>2019-06-25</td>\n",
       "    </tr>\n",
       "    <tr>\n",
       "      <th>431</th>\n",
       "      <td>2019-06-26</td>\n",
       "    </tr>\n",
       "    <tr>\n",
       "      <th>432</th>\n",
       "      <td>2019-06-27</td>\n",
       "    </tr>\n",
       "    <tr>\n",
       "      <th>433</th>\n",
       "      <td>2019-06-28</td>\n",
       "    </tr>\n",
       "    <tr>\n",
       "      <th>434</th>\n",
       "      <td>2019-06-29</td>\n",
       "    </tr>\n",
       "  </tbody>\n",
       "</table>\n",
       "</div>"
      ],
      "text/plain": [
       "            ds\n",
       "430 2019-06-25\n",
       "431 2019-06-26\n",
       "432 2019-06-27\n",
       "433 2019-06-28\n",
       "434 2019-06-29"
      ]
     },
     "execution_count": 22,
     "metadata": {},
     "output_type": "execute_result"
    }
   ],
   "source": [
    "future = m.make_future_dataframe(periods=180)\n",
    "future.tail()"
   ]
  },
  {
   "cell_type": "markdown",
   "metadata": {},
   "source": [
    "Let's predict."
   ]
  },
  {
   "cell_type": "code",
   "execution_count": 23,
   "metadata": {},
   "outputs": [
    {
     "data": {
      "text/html": [
       "<div>\n",
       "<style scoped>\n",
       "    .dataframe tbody tr th:only-of-type {\n",
       "        vertical-align: middle;\n",
       "    }\n",
       "\n",
       "    .dataframe tbody tr th {\n",
       "        vertical-align: top;\n",
       "    }\n",
       "\n",
       "    .dataframe thead th {\n",
       "        text-align: right;\n",
       "    }\n",
       "</style>\n",
       "<table border=\"1\" class=\"dataframe\">\n",
       "  <thead>\n",
       "    <tr style=\"text-align: right;\">\n",
       "      <th></th>\n",
       "      <th>ds</th>\n",
       "      <th>yhat</th>\n",
       "    </tr>\n",
       "  </thead>\n",
       "  <tbody>\n",
       "    <tr>\n",
       "      <th>430</th>\n",
       "      <td>2019-06-25</td>\n",
       "      <td>-0.049369</td>\n",
       "    </tr>\n",
       "    <tr>\n",
       "      <th>431</th>\n",
       "      <td>2019-06-26</td>\n",
       "      <td>-0.048870</td>\n",
       "    </tr>\n",
       "    <tr>\n",
       "      <th>432</th>\n",
       "      <td>2019-06-27</td>\n",
       "      <td>-0.048360</td>\n",
       "    </tr>\n",
       "    <tr>\n",
       "      <th>433</th>\n",
       "      <td>2019-06-28</td>\n",
       "      <td>-0.047888</td>\n",
       "    </tr>\n",
       "    <tr>\n",
       "      <th>434</th>\n",
       "      <td>2019-06-29</td>\n",
       "      <td>-0.046263</td>\n",
       "    </tr>\n",
       "  </tbody>\n",
       "</table>\n",
       "</div>"
      ],
      "text/plain": [
       "            ds      yhat\n",
       "430 2019-06-25 -0.049369\n",
       "431 2019-06-26 -0.048870\n",
       "432 2019-06-27 -0.048360\n",
       "433 2019-06-28 -0.047888\n",
       "434 2019-06-29 -0.046263"
      ]
     },
     "execution_count": 23,
     "metadata": {},
     "output_type": "execute_result"
    }
   ],
   "source": [
    "forecast = m.predict(future)\n",
    "forecast[['ds', 'yhat']].tail()er"
   ]
  },
  {
   "cell_type": "markdown",
   "metadata": {},
   "source": [
    "And plot our prediction."
   ]
  },
  {
   "cell_type": "code",
   "execution_count": 24,
   "metadata": {},
   "outputs": [
    {
     "data": {
      "image/png": "[encoded data removed]",
      "text/plain": [
       "<Figure size 720x432 with 1 Axes>"
      ]
     },
     "metadata": {},
     "output_type": "display_data"
    }
   ],
   "source": [
    "m.plot(forecast)\n",
    "plt.show()"
   ]
  },
  {
   "cell_type": "markdown",
   "metadata": {},
   "source": [
    "---"
   ]
  },
  {
   "cell_type": "markdown",
   "metadata": {},
   "source": [
    "## Your turn: Solvency II data"
   ]
  },
  {
   "cell_type": "markdown",
   "metadata": {},
   "source": [
    "Up and till now, you have been able to sit back and [Shift-Enter]. Now - if you have time left... - try and reuse parts of what you learned in this section to complete the exercises below. This time you'll be using a public data set published on DNB's website."
   ]
  },
  {
   "cell_type": "markdown",
   "metadata": {},
   "source": [
    "Let's start by reading in a new data set. The name of the data file is `Individuele gegevens verzekeraars per jaar.xlsx`. It contains information from https://statistiek.dnb.nl/downloads/index.aspx#/details/individuele-gegevens-verzekeraars-jaar/dataset/d66feb58-e89b-4c73-b0c7-cab81188ca77 and contains public information about insurance companies. More specifically, we use public Solvency II data from individual Dutch insurance undertakings./ \n",
    "\n",
    "We will walk through similar steps as before, but now, you will need to actually write some code and fill code cells to analyze the data. If you get stuck, scroll up to the relevant code you ran earlier."
   ]
  },
  {
   "cell_type": "markdown",
   "metadata": {},
   "source": [
    "Let's start by reading in the data using the name given above. \n",
    "\n",
    "**Exercise**: Edit line 1 such that you load in the correct file. Keep line 2 as is."
   ]
  },
  {
   "cell_type": "code",
   "execution_count": 226,
   "metadata": {},
   "outputs": [],
   "source": [
    "xls = pd.ExcelFile('Individuele gegevens verzekeraars per jaar.xlsx')\n",
    "df = read_sheet(14, xls)"
   ]
  },
  {
   "cell_type": "markdown",
   "metadata": {},
   "source": [
    "**Exercise:** Take a peak at the data in `df` using the `head` function."
   ]
  },
  {
   "cell_type": "code",
   "execution_count": 227,
   "metadata": {},
   "outputs": [
    {
     "data": {
      "text/html": [
       "<div>\n",
       "<style scoped>\n",
       "    .dataframe tbody tr th:only-of-type {\n",
       "        vertical-align: middle;\n",
       "    }\n",
       "\n",
       "    .dataframe tbody tr th {\n",
       "        vertical-align: top;\n",
       "    }\n",
       "\n",
       "    .dataframe thead th {\n",
       "        text-align: right;\n",
       "    }\n",
       "</style>\n",
       "<table border=\"1\" class=\"dataframe\">\n",
       "  <thead>\n",
       "    <tr style=\"text-align: right;\">\n",
       "      <th></th>\n",
       "      <th></th>\n",
       "      <th>intangible assets</th>\n",
       "      <th>deferred tax assets</th>\n",
       "      <th>pension benefit surplus</th>\n",
       "      <th>property, plant &amp; equipment held for own use</th>\n",
       "      <th>investments (other than assets held for index-linked and unit-linked contracts)</th>\n",
       "      <th>investments (other than assets held for index-linked and unit-linked contracts)|property (other than for own use)</th>\n",
       "      <th>investments (other than assets held for index-linked and unit-linked contracts)|holdings in related undertakings, including participations</th>\n",
       "      <th>investments (other than assets held for index-linked and unit-linked contracts)|equities</th>\n",
       "      <th>investments (other than assets held for index-linked and unit-linked contracts)|equities|equities - listed</th>\n",
       "      <th>investments (other than assets held for index-linked and unit-linked contracts)|equities|equities - unlisted</th>\n",
       "      <th>...</th>\n",
       "      <th>financial liabilities other than debts owed to credit institutions</th>\n",
       "      <th>insurance &amp; intermediaries payables</th>\n",
       "      <th>reinsurance payables</th>\n",
       "      <th>payables (trade, not insurance)</th>\n",
       "      <th>subordinated liabilities</th>\n",
       "      <th>subordinated subordinated liabilities not in basic own funds</th>\n",
       "      <th>subordinated subordinated liabilities in basic own funds</th>\n",
       "      <th>any other liabilities, not elsewhere shown</th>\n",
       "      <th>total liabilities</th>\n",
       "      <th>excess of assets over liabilities</th>\n",
       "    </tr>\n",
       "    <tr>\n",
       "      <th>relatienaam</th>\n",
       "      <th>periode</th>\n",
       "      <th></th>\n",
       "      <th></th>\n",
       "      <th></th>\n",
       "      <th></th>\n",
       "      <th></th>\n",
       "      <th></th>\n",
       "      <th></th>\n",
       "      <th></th>\n",
       "      <th></th>\n",
       "      <th></th>\n",
       "      <th></th>\n",
       "      <th></th>\n",
       "      <th></th>\n",
       "      <th></th>\n",
       "      <th></th>\n",
       "      <th></th>\n",
       "      <th></th>\n",
       "      <th></th>\n",
       "      <th></th>\n",
       "      <th></th>\n",
       "      <th></th>\n",
       "    </tr>\n",
       "  </thead>\n",
       "  <tbody>\n",
       "    <tr>\n",
       "      <th rowspan=\"2\" valign=\"top\">ABN AMRO Captive N.V.</th>\n",
       "      <th>2016-12-31</th>\n",
       "      <td>0.0</td>\n",
       "      <td>263571.75</td>\n",
       "      <td>0.0</td>\n",
       "      <td>0.0</td>\n",
       "      <td>3.806327e+07</td>\n",
       "      <td>0.0</td>\n",
       "      <td>0.0</td>\n",
       "      <td>0.0</td>\n",
       "      <td>0.0</td>\n",
       "      <td>0.0</td>\n",
       "      <td>...</td>\n",
       "      <td>0.0</td>\n",
       "      <td>0.00</td>\n",
       "      <td>0.00</td>\n",
       "      <td>0.00</td>\n",
       "      <td>0.0</td>\n",
       "      <td>0.0</td>\n",
       "      <td>0.0</td>\n",
       "      <td>5110375.0</td>\n",
       "      <td>1.870153e+07</td>\n",
       "      <td>6.742563e+07</td>\n",
       "    </tr>\n",
       "    <tr>\n",
       "      <th>2017-12-31</th>\n",
       "      <td>0.0</td>\n",
       "      <td>176064.65</td>\n",
       "      <td>0.0</td>\n",
       "      <td>0.0</td>\n",
       "      <td>3.427627e+07</td>\n",
       "      <td>0.0</td>\n",
       "      <td>0.0</td>\n",
       "      <td>0.0</td>\n",
       "      <td>0.0</td>\n",
       "      <td>0.0</td>\n",
       "      <td>...</td>\n",
       "      <td>0.0</td>\n",
       "      <td>0.00</td>\n",
       "      <td>0.00</td>\n",
       "      <td>0.00</td>\n",
       "      <td>0.0</td>\n",
       "      <td>0.0</td>\n",
       "      <td>0.0</td>\n",
       "      <td>5894017.8</td>\n",
       "      <td>1.702317e+07</td>\n",
       "      <td>6.981371e+07</td>\n",
       "    </tr>\n",
       "    <tr>\n",
       "      <th>ABN AMRO Levensverzekering N.V.</th>\n",
       "      <th>2016-12-31</th>\n",
       "      <td>0.0</td>\n",
       "      <td>0.00</td>\n",
       "      <td>0.0</td>\n",
       "      <td>0.0</td>\n",
       "      <td>1.216868e+09</td>\n",
       "      <td>0.0</td>\n",
       "      <td>0.0</td>\n",
       "      <td>0.0</td>\n",
       "      <td>0.0</td>\n",
       "      <td>0.0</td>\n",
       "      <td>...</td>\n",
       "      <td>40730000.0</td>\n",
       "      <td>19077397.91</td>\n",
       "      <td>285881.93</td>\n",
       "      <td>49611277.95</td>\n",
       "      <td>0.0</td>\n",
       "      <td>0.0</td>\n",
       "      <td>0.0</td>\n",
       "      <td>0.0</td>\n",
       "      <td>4.822703e+09</td>\n",
       "      <td>5.306624e+08</td>\n",
       "    </tr>\n",
       "  </tbody>\n",
       "</table>\n",
       "<p>3 rows × 80 columns</p>\n",
       "</div>"
      ],
      "text/plain": [
       "                                            intangible assets  \\\n",
       "relatienaam                     periode                         \n",
       "ABN AMRO Captive N.V.           2016-12-31                0.0   \n",
       "                                2017-12-31                0.0   \n",
       "ABN AMRO Levensverzekering N.V. 2016-12-31                0.0   \n",
       "\n",
       "                                            deferred tax assets  \\\n",
       "relatienaam                     periode                           \n",
       "ABN AMRO Captive N.V.           2016-12-31            263571.75   \n",
       "                                2017-12-31            176064.65   \n",
       "ABN AMRO Levensverzekering N.V. 2016-12-31                 0.00   \n",
       "\n",
       "                                            pension benefit surplus  \\\n",
       "relatienaam                     periode                               \n",
       "ABN AMRO Captive N.V.           2016-12-31                      0.0   \n",
       "                                2017-12-31                      0.0   \n",
       "ABN AMRO Levensverzekering N.V. 2016-12-31                      0.0   \n",
       "\n",
       "                                            property, plant & equipment held for own use  \\\n",
       "relatienaam                     periode                                                    \n",
       "ABN AMRO Captive N.V.           2016-12-31                                           0.0   \n",
       "                                2017-12-31                                           0.0   \n",
       "ABN AMRO Levensverzekering N.V. 2016-12-31                                           0.0   \n",
       "\n",
       "                                            investments (other than assets held for index-linked and unit-linked contracts)  \\\n",
       "relatienaam                     periode                                                                                       \n",
       "ABN AMRO Captive N.V.           2016-12-31                                       3.806327e+07                                 \n",
       "                                2017-12-31                                       3.427627e+07                                 \n",
       "ABN AMRO Levensverzekering N.V. 2016-12-31                                       1.216868e+09                                 \n",
       "\n",
       "                                            investments (other than assets held for index-linked and unit-linked contracts)|property (other than for own use)  \\\n",
       "relatienaam                     periode                                                                                                                         \n",
       "ABN AMRO Captive N.V.           2016-12-31                                                0.0                                                                   \n",
       "                                2017-12-31                                                0.0                                                                   \n",
       "ABN AMRO Levensverzekering N.V. 2016-12-31                                                0.0                                                                   \n",
       "\n",
       "                                            investments (other than assets held for index-linked and unit-linked contracts)|holdings in related undertakings, including participations  \\\n",
       "relatienaam                     periode                                                                                                                                                  \n",
       "ABN AMRO Captive N.V.           2016-12-31                                                0.0                                                                                            \n",
       "                                2017-12-31                                                0.0                                                                                            \n",
       "ABN AMRO Levensverzekering N.V. 2016-12-31                                                0.0                                                                                            \n",
       "\n",
       "                                            investments (other than assets held for index-linked and unit-linked contracts)|equities  \\\n",
       "relatienaam                     periode                                                                                                \n",
       "ABN AMRO Captive N.V.           2016-12-31                                                0.0                                          \n",
       "                                2017-12-31                                                0.0                                          \n",
       "ABN AMRO Levensverzekering N.V. 2016-12-31                                                0.0                                          \n",
       "\n",
       "                                            investments (other than assets held for index-linked and unit-linked contracts)|equities|equities - listed  \\\n",
       "relatienaam                     periode                                                                                                                  \n",
       "ABN AMRO Captive N.V.           2016-12-31                                                0.0                                                            \n",
       "                                2017-12-31                                                0.0                                                            \n",
       "ABN AMRO Levensverzekering N.V. 2016-12-31                                                0.0                                                            \n",
       "\n",
       "                                            investments (other than assets held for index-linked and unit-linked contracts)|equities|equities - unlisted  \\\n",
       "relatienaam                     periode                                                                                                                    \n",
       "ABN AMRO Captive N.V.           2016-12-31                                                0.0                                                              \n",
       "                                2017-12-31                                                0.0                                                              \n",
       "ABN AMRO Levensverzekering N.V. 2016-12-31                                                0.0                                                              \n",
       "\n",
       "                                                          ...                  \\\n",
       "relatienaam                     periode                   ...                   \n",
       "ABN AMRO Captive N.V.           2016-12-31                ...                   \n",
       "                                2017-12-31                ...                   \n",
       "ABN AMRO Levensverzekering N.V. 2016-12-31                ...                   \n",
       "\n",
       "                                            financial liabilities other than debts owed to credit institutions  \\\n",
       "relatienaam                     periode                                                                          \n",
       "ABN AMRO Captive N.V.           2016-12-31                                                0.0                    \n",
       "                                2017-12-31                                                0.0                    \n",
       "ABN AMRO Levensverzekering N.V. 2016-12-31                                         40730000.0                    \n",
       "\n",
       "                                            insurance & intermediaries payables  \\\n",
       "relatienaam                     periode                                           \n",
       "ABN AMRO Captive N.V.           2016-12-31                                 0.00   \n",
       "                                2017-12-31                                 0.00   \n",
       "ABN AMRO Levensverzekering N.V. 2016-12-31                          19077397.91   \n",
       "\n",
       "                                            reinsurance payables  \\\n",
       "relatienaam                     periode                            \n",
       "ABN AMRO Captive N.V.           2016-12-31                  0.00   \n",
       "                                2017-12-31                  0.00   \n",
       "ABN AMRO Levensverzekering N.V. 2016-12-31             285881.93   \n",
       "\n",
       "                                            payables (trade, not insurance)  \\\n",
       "relatienaam                     periode                                       \n",
       "ABN AMRO Captive N.V.           2016-12-31                             0.00   \n",
       "                                2017-12-31                             0.00   \n",
       "ABN AMRO Levensverzekering N.V. 2016-12-31                      49611277.95   \n",
       "\n",
       "                                            subordinated liabilities  \\\n",
       "relatienaam                     periode                                \n",
       "ABN AMRO Captive N.V.           2016-12-31                       0.0   \n",
       "                                2017-12-31                       0.0   \n",
       "ABN AMRO Levensverzekering N.V. 2016-12-31                       0.0   \n",
       "\n",
       "                                            subordinated subordinated liabilities not in basic own funds  \\\n",
       "relatienaam                     periode                                                                    \n",
       "ABN AMRO Captive N.V.           2016-12-31                                                0.0              \n",
       "                                2017-12-31                                                0.0              \n",
       "ABN AMRO Levensverzekering N.V. 2016-12-31                                                0.0              \n",
       "\n",
       "                                            subordinated subordinated liabilities in basic own funds  \\\n",
       "relatienaam                     periode                                                                \n",
       "ABN AMRO Captive N.V.           2016-12-31                                                0.0          \n",
       "                                2017-12-31                                                0.0          \n",
       "ABN AMRO Levensverzekering N.V. 2016-12-31                                                0.0          \n",
       "\n",
       "                                            any other liabilities, not elsewhere shown  \\\n",
       "relatienaam                     periode                                                  \n",
       "ABN AMRO Captive N.V.           2016-12-31                                   5110375.0   \n",
       "                                2017-12-31                                   5894017.8   \n",
       "ABN AMRO Levensverzekering N.V. 2016-12-31                                         0.0   \n",
       "\n",
       "                                            total liabilities  \\\n",
       "relatienaam                     periode                         \n",
       "ABN AMRO Captive N.V.           2016-12-31       1.870153e+07   \n",
       "                                2017-12-31       1.702317e+07   \n",
       "ABN AMRO Levensverzekering N.V. 2016-12-31       4.822703e+09   \n",
       "\n",
       "                                            excess of assets over liabilities  \n",
       "relatienaam                     periode                                        \n",
       "ABN AMRO Captive N.V.           2016-12-31                       6.742563e+07  \n",
       "                                2017-12-31                       6.981371e+07  \n",
       "ABN AMRO Levensverzekering N.V. 2016-12-31                       5.306624e+08  \n",
       "\n",
       "[3 rows x 80 columns]"
      ]
     },
     "execution_count": 227,
     "metadata": {},
     "output_type": "execute_result"
    }
   ],
   "source": [
    "df.head(3)"
   ]
  },
  {
   "cell_type": "markdown",
   "metadata": {},
   "source": [
    "The data frame `df` now contains the data of the balance sheets of all Dutch insurance undertakings. Because Solvency II came into force in 2016 we have two years of data (per 2016-12-31 and per 2017-12-31).\n",
    "\n",
    "Suppose we want to do some calculations with the balance sheets per 2017-12-31. \n",
    "\n",
    "Then we have to select this date from the data frame. For this we use the command `xs` of the `df` object. The parameters are `axis = 0` (we select from the rows), `level = 1` (level 0 is the name of the insurance undertaking and level 1 is the date of the report)."
   ]
  },
  {
   "cell_type": "code",
   "execution_count": 228,
   "metadata": {},
   "outputs": [],
   "source": [
    "df = df.xs(datetime(2017,12,31), axis = 0, level = 1)"
   ]
  },
  {
   "cell_type": "markdown",
   "metadata": {},
   "source": [
    "Let's see the number of insurance companies of which we have the balance sheet and how many columns of information we have:"
   ]
  },
  {
   "cell_type": "code",
   "execution_count": 229,
   "metadata": {},
   "outputs": [
    {
     "name": "stdout",
     "output_type": "stream",
     "text": [
      "The number of insurance companies in our data set is 139 and the number of columns is 80\n"
     ]
    }
   ],
   "source": [
    "nr_of_i = len(df)\n",
    "nr_of_cols = len(df.columns)\n",
    "print(f'The number of insurance companies in our data set is {nr_of_i} and the number of columns is {nr_of_cols}')"
   ]
  },
  {
   "cell_type": "markdown",
   "metadata": {},
   "source": [
    "Time to find out some general things. \n",
    "\n",
    "**Exercise:** Calculate the sum of all total assets by selecting the `total assets` column and applying the `sum()` function and calculate the maximum `total assets`."
   ]
  },
  {
   "cell_type": "code",
   "execution_count": null,
   "metadata": {},
   "outputs": [],
   "source": []
  },
  {
   "cell_type": "markdown",
   "metadata": {},
   "source": [
    "On to looking at insurance premiums. These are in sheet 16 of the Excel sheet we are taking a look at, so we are going to load that."
   ]
  },
  {
   "cell_type": "code",
   "execution_count": 244,
   "metadata": {},
   "outputs": [],
   "source": [
    "df_premiums = read_sheet(16, xls)\n",
    "df_premiums = df_premiums.xs(datetime(2017,12,31), level = 1)"
   ]
  },
  {
   "cell_type": "markdown",
   "metadata": {},
   "source": [
    "We will now use a specific algorithm to visualize the high-dimensional data: [t-Distributed Stochastic Neighbor Embedding](https://lvdmaaten.github.io/tsne/). "
   ]
  },
  {
   "cell_type": "code",
   "execution_count": 280,
   "metadata": {},
   "outputs": [
    {
     "name": "stdout",
     "output_type": "stream",
     "text": [
      "[t-SNE] Computing 28 nearest neighbors...\n",
      "[t-SNE] Indexed 108 samples in 0.000s...\n",
      "[t-SNE] Computed neighbors for 108 samples in 0.009s...\n",
      "[t-SNE] Computed conditional probabilities for sample 108 / 108\n",
      "[t-SNE] Mean sigma: 8433517.286728\n",
      "[t-SNE] KL divergence after 250 iterations with early exaggeration: 59.892975\n",
      "[t-SNE] KL divergence after 1000 iterations: 0.187895\n"
     ]
    }
   ],
   "source": [
    "X = df_premiums.values\n",
    "Y = TSNE(n_components = 2, perplexity = 9, \n",
    "         verbose = 1, random_state = 1).fit_transform(X)"
   ]
  },
  {
   "cell_type": "markdown",
   "metadata": {},
   "source": [
    "We can produce a scatter plot based on the results the t-SNE algorithm gives us. Uncomment the two commented lines to add the names of the insurance companies to the plot."
   ]
  },
  {
   "cell_type": "code",
   "execution_count": 281,
   "metadata": {
    "scrolled": true
   },
   "outputs": [
    {
     "data": {
      "text/plain": [
       "<matplotlib.collections.PathCollection at 0x13014c8d0>"
      ]
     },
     "execution_count": 281,
     "metadata": {},
     "output_type": "execute_result"
    },
    {
     "data": {
      "image/png": "[encoded data removed]",
      "text/plain": [
       "<Figure size 504x504 with 1 Axes>"
      ]
     },
     "metadata": {
      "needs_background": "light"
     },
     "output_type": "display_data"
    }
   ],
   "source": [
    "plt.scatter(x = Y[:, 0], \n",
    "              y = Y[:, 1], \n",
    "              s = 20)\n",
    "\n",
    "# for i in range(len(Y[:,0])):\n",
    "#     plt.annotate(df_premiums.index[i][0:20], (Y[i,0], Y[i,1]))\n",
    "    \n"
   ]
  },
  {
   "cell_type": "markdown",
   "metadata": {},
   "source": [
    "## Building a simple neural-network with Keras¶"
   ]
  },
  {
   "cell_type": "markdown",
   "metadata": {},
   "source": [
    "If you have any time left, walk through the following cells of code which build a simple neural network that is learned to recognize digits. It is trained on the well known [MNIST](http://yann.lecun.com/exdb/mnist/) data set."
   ]
  },
  {
   "cell_type": "markdown",
   "metadata": {},
   "source": [
    "### Load training data"
   ]
  },
  {
   "cell_type": "markdown",
   "metadata": {},
   "source": [
    "Let's look at some examples of the training data"
   ]
  },
  {
   "cell_type": "code",
   "execution_count": 260,
   "metadata": {},
   "outputs": [
    {
     "name": "stdout",
     "output_type": "stream",
     "text": [
      "Downloading data from https://s3.amazonaws.com/img-datasets/mnist.npz\n",
      "11493376/11490434 [==============================] - 7s 1us/step\n",
      "X_train original shape (60000, 28, 28)\n",
      "y_train original shape (60000,)\n"
     ]
    }
   ],
   "source": [
    "nb_classes = 10\n",
    "\n",
    "# the data, shuffled and split between tran and test sets\n",
    "(X_train, y_train), (X_test, y_test) = mnist.load_data()\n",
    "print(\"X_train original shape\", X_train.shape)\n",
    "print(\"y_train original shape\", y_train.shape)"
   ]
  },
  {
   "cell_type": "markdown",
   "metadata": {},
   "source": [
    "Let's look at some examples of the training data."
   ]
  },
  {
   "cell_type": "code",
   "execution_count": 277,
   "metadata": {},
   "outputs": [
    {
     "ename": "TypeError",
     "evalue": "Invalid dimensions for image data",
     "output_type": "error",
     "traceback": [
      "\u001b[0;31m---------------------------------------------------------------------------\u001b[0m",
      "\u001b[0;31mTypeError\u001b[0m                                 Traceback (most recent call last)",
      "\u001b[0;32m<ipython-input-277-50d0b5cecfeb>\u001b[0m in \u001b[0;36m<module>\u001b[0;34m()\u001b[0m\n\u001b[1;32m      1\u001b[0m \u001b[0;32mfor\u001b[0m \u001b[0mi\u001b[0m \u001b[0;32min\u001b[0m \u001b[0mrange\u001b[0m\u001b[0;34m(\u001b[0m\u001b[0;36m9\u001b[0m\u001b[0;34m)\u001b[0m\u001b[0;34m:\u001b[0m\u001b[0;34m\u001b[0m\u001b[0;34m\u001b[0m\u001b[0m\n\u001b[1;32m      2\u001b[0m     \u001b[0mplt\u001b[0m\u001b[0;34m.\u001b[0m\u001b[0msubplot\u001b[0m\u001b[0;34m(\u001b[0m\u001b[0;36m3\u001b[0m\u001b[0;34m,\u001b[0m\u001b[0;36m3\u001b[0m\u001b[0;34m,\u001b[0m\u001b[0mi\u001b[0m\u001b[0;34m+\u001b[0m\u001b[0;36m1\u001b[0m\u001b[0;34m)\u001b[0m\u001b[0;34m\u001b[0m\u001b[0;34m\u001b[0m\u001b[0m\n\u001b[0;32m----> 3\u001b[0;31m     \u001b[0mplt\u001b[0m\u001b[0;34m.\u001b[0m\u001b[0mimshow\u001b[0m\u001b[0;34m(\u001b[0m\u001b[0mX_train\u001b[0m\u001b[0;34m[\u001b[0m\u001b[0mi\u001b[0m\u001b[0;34m]\u001b[0m\u001b[0;34m,\u001b[0m \u001b[0mcmap\u001b[0m\u001b[0;34m=\u001b[0m\u001b[0;34m'gray'\u001b[0m\u001b[0;34m,\u001b[0m \u001b[0minterpolation\u001b[0m\u001b[0;34m=\u001b[0m\u001b[0;34m'none'\u001b[0m\u001b[0;34m)\u001b[0m\u001b[0;34m\u001b[0m\u001b[0;34m\u001b[0m\u001b[0m\n\u001b[0m\u001b[1;32m      4\u001b[0m     \u001b[0mplt\u001b[0m\u001b[0;34m.\u001b[0m\u001b[0mtitle\u001b[0m\u001b[0;34m(\u001b[0m\u001b[0;34m\"Class {}\"\u001b[0m\u001b[0;34m.\u001b[0m\u001b[0mformat\u001b[0m\u001b[0;34m(\u001b[0m\u001b[0my_train\u001b[0m\u001b[0;34m[\u001b[0m\u001b[0mi\u001b[0m\u001b[0;34m]\u001b[0m\u001b[0;34m)\u001b[0m\u001b[0;34m)\u001b[0m\u001b[0;34m\u001b[0m\u001b[0;34m\u001b[0m\u001b[0m\n",
      "\u001b[0;32m/usr/local/lib/python3.7/site-packages/matplotlib/pyplot.py\u001b[0m in \u001b[0;36mimshow\u001b[0;34m(X, cmap, norm, aspect, interpolation, alpha, vmin, vmax, origin, extent, shape, filternorm, filterrad, imlim, resample, url, hold, data, **kwargs)\u001b[0m\n\u001b[1;32m   3208\u001b[0m                         \u001b[0mfilternorm\u001b[0m\u001b[0;34m=\u001b[0m\u001b[0mfilternorm\u001b[0m\u001b[0;34m,\u001b[0m \u001b[0mfilterrad\u001b[0m\u001b[0;34m=\u001b[0m\u001b[0mfilterrad\u001b[0m\u001b[0;34m,\u001b[0m\u001b[0;34m\u001b[0m\u001b[0;34m\u001b[0m\u001b[0m\n\u001b[1;32m   3209\u001b[0m                         \u001b[0mimlim\u001b[0m\u001b[0;34m=\u001b[0m\u001b[0mimlim\u001b[0m\u001b[0;34m,\u001b[0m \u001b[0mresample\u001b[0m\u001b[0;34m=\u001b[0m\u001b[0mresample\u001b[0m\u001b[0;34m,\u001b[0m \u001b[0murl\u001b[0m\u001b[0;34m=\u001b[0m\u001b[0murl\u001b[0m\u001b[0;34m,\u001b[0m \u001b[0mdata\u001b[0m\u001b[0;34m=\u001b[0m\u001b[0mdata\u001b[0m\u001b[0;34m,\u001b[0m\u001b[0;34m\u001b[0m\u001b[0;34m\u001b[0m\u001b[0m\n\u001b[0;32m-> 3210\u001b[0;31m                         **kwargs)\n\u001b[0m\u001b[1;32m   3211\u001b[0m     \u001b[0;32mfinally\u001b[0m\u001b[0;34m:\u001b[0m\u001b[0;34m\u001b[0m\u001b[0;34m\u001b[0m\u001b[0m\n\u001b[1;32m   3212\u001b[0m         \u001b[0max\u001b[0m\u001b[0;34m.\u001b[0m\u001b[0m_hold\u001b[0m \u001b[0;34m=\u001b[0m \u001b[0mwashold\u001b[0m\u001b[0;34m\u001b[0m\u001b[0;34m\u001b[0m\u001b[0m\n",
      "\u001b[0;32m/usr/local/lib/python3.7/site-packages/matplotlib/__init__.py\u001b[0m in \u001b[0;36minner\u001b[0;34m(ax, *args, **kwargs)\u001b[0m\n\u001b[1;32m   1865\u001b[0m                         \u001b[0;34m\"the Matplotlib list!)\"\u001b[0m \u001b[0;34m%\u001b[0m \u001b[0;34m(\u001b[0m\u001b[0mlabel_namer\u001b[0m\u001b[0;34m,\u001b[0m \u001b[0mfunc\u001b[0m\u001b[0;34m.\u001b[0m\u001b[0m__name__\u001b[0m\u001b[0;34m)\u001b[0m\u001b[0;34m,\u001b[0m\u001b[0;34m\u001b[0m\u001b[0;34m\u001b[0m\u001b[0m\n\u001b[1;32m   1866\u001b[0m                         RuntimeWarning, stacklevel=2)\n\u001b[0;32m-> 1867\u001b[0;31m             \u001b[0;32mreturn\u001b[0m \u001b[0mfunc\u001b[0m\u001b[0;34m(\u001b[0m\u001b[0max\u001b[0m\u001b[0;34m,\u001b[0m \u001b[0;34m*\u001b[0m\u001b[0margs\u001b[0m\u001b[0;34m,\u001b[0m \u001b[0;34m**\u001b[0m\u001b[0mkwargs\u001b[0m\u001b[0;34m)\u001b[0m\u001b[0;34m\u001b[0m\u001b[0;34m\u001b[0m\u001b[0m\n\u001b[0m\u001b[1;32m   1868\u001b[0m \u001b[0;34m\u001b[0m\u001b[0m\n\u001b[1;32m   1869\u001b[0m         inner.__doc__ = _add_data_doc(inner.__doc__,\n",
      "\u001b[0;32m/usr/local/lib/python3.7/site-packages/matplotlib/axes/_axes.py\u001b[0m in \u001b[0;36mimshow\u001b[0;34m(self, X, cmap, norm, aspect, interpolation, alpha, vmin, vmax, origin, extent, shape, filternorm, filterrad, imlim, resample, url, **kwargs)\u001b[0m\n\u001b[1;32m   5499\u001b[0m                               resample=resample, **kwargs)\n\u001b[1;32m   5500\u001b[0m \u001b[0;34m\u001b[0m\u001b[0m\n\u001b[0;32m-> 5501\u001b[0;31m         \u001b[0mim\u001b[0m\u001b[0;34m.\u001b[0m\u001b[0mset_data\u001b[0m\u001b[0;34m(\u001b[0m\u001b[0mX\u001b[0m\u001b[0;34m)\u001b[0m\u001b[0;34m\u001b[0m\u001b[0;34m\u001b[0m\u001b[0m\n\u001b[0m\u001b[1;32m   5502\u001b[0m         \u001b[0mim\u001b[0m\u001b[0;34m.\u001b[0m\u001b[0mset_alpha\u001b[0m\u001b[0;34m(\u001b[0m\u001b[0malpha\u001b[0m\u001b[0;34m)\u001b[0m\u001b[0;34m\u001b[0m\u001b[0;34m\u001b[0m\u001b[0m\n\u001b[1;32m   5503\u001b[0m         \u001b[0;32mif\u001b[0m \u001b[0mim\u001b[0m\u001b[0;34m.\u001b[0m\u001b[0mget_clip_path\u001b[0m\u001b[0;34m(\u001b[0m\u001b[0;34m)\u001b[0m \u001b[0;32mis\u001b[0m \u001b[0;32mNone\u001b[0m\u001b[0;34m:\u001b[0m\u001b[0;34m\u001b[0m\u001b[0;34m\u001b[0m\u001b[0m\n",
      "\u001b[0;32m/usr/local/lib/python3.7/site-packages/matplotlib/image.py\u001b[0m in \u001b[0;36mset_data\u001b[0;34m(self, A)\u001b[0m\n\u001b[1;32m    652\u001b[0m         if not (self._A.ndim == 2\n\u001b[1;32m    653\u001b[0m                 or self._A.ndim == 3 and self._A.shape[-1] in [3, 4]):\n\u001b[0;32m--> 654\u001b[0;31m             \u001b[0;32mraise\u001b[0m \u001b[0mTypeError\u001b[0m\u001b[0;34m(\u001b[0m\u001b[0;34m\"Invalid dimensions for image data\"\u001b[0m\u001b[0;34m)\u001b[0m\u001b[0;34m\u001b[0m\u001b[0;34m\u001b[0m\u001b[0m\n\u001b[0m\u001b[1;32m    655\u001b[0m \u001b[0;34m\u001b[0m\u001b[0m\n\u001b[1;32m    656\u001b[0m         \u001b[0;32mif\u001b[0m \u001b[0mself\u001b[0m\u001b[0;34m.\u001b[0m\u001b[0m_A\u001b[0m\u001b[0;34m.\u001b[0m\u001b[0mndim\u001b[0m \u001b[0;34m==\u001b[0m \u001b[0;36m3\u001b[0m\u001b[0;34m:\u001b[0m\u001b[0;34m\u001b[0m\u001b[0;34m\u001b[0m\u001b[0m\n",
      "\u001b[0;31mTypeError\u001b[0m: Invalid dimensions for image data"
     ]
    },
    {
     "data": {
      "image/png": "[encoded data removed]",
      "text/plain": [
       "<Figure size 504x504 with 1 Axes>"
      ]
     },
     "metadata": {
      "needs_background": "light"
     },
     "output_type": "display_data"
    }
   ],
   "source": [
    "for i in range(9):\n",
    "    plt.subplot(3,3,i+1)\n",
    "    plt.imshow(X_train[i], cmap='gray', interpolation='none')\n",
    "    plt.title(\"Class {}\".format(y_train[i]))"
   ]
  },
  {
   "cell_type": "markdown",
   "metadata": {},
   "source": [
    "### Format the data for training"
   ]
  },
  {
   "cell_type": "markdown",
   "metadata": {},
   "source": [
    "Our neural-network is going to take a single vector for each training example, so we need to reshape the input so that each 28x28 image becomes a single 784 dimensional vector. We'll also scale the inputs to be in the range [0-1] rather than [0-255]."
   ]
  },
  {
   "cell_type": "code",
   "execution_count": 263,
   "metadata": {},
   "outputs": [
    {
     "name": "stdout",
     "output_type": "stream",
     "text": [
      "Training matrix shape (60000, 784)\n",
      "Testing matrix shape (10000, 784)\n"
     ]
    }
   ],
   "source": [
    "X_train = X_train.reshape(60000, 784)\n",
    "X_test = X_test.reshape(10000, 784)\n",
    "X_train = X_train.astype('float32')\n",
    "X_test = X_test.astype('float32')\n",
    "X_train /= 255\n",
    "X_test /= 255\n",
    "print(\"Training matrix shape\", X_train.shape)\n",
    "print(\"Testing matrix shape\", X_test.shape)"
   ]
  },
  {
   "cell_type": "markdown",
   "metadata": {},
   "source": [
    "\n",
    "Modify the target matrices to be in the one-hot format, i.e.\n",
    "\n",
    "\n",
    "    \n",
    "    0 -> [1, 0, 0, 0, 0, 0, 0, 0, 0],\n",
    "    1 -> [0, 1, 0, 0, 0, 0, 0, 0, 0],\n",
    "    2 -> [0, 0, 1, 0, 0, 0, 0, 0, 0],\n",
    "    etc.\n",
    "       "
   ]
  },
  {
   "cell_type": "code",
   "execution_count": 264,
   "metadata": {},
   "outputs": [],
   "source": [
    "Y_train = np_utils.to_categorical(y_train, nb_classes)\n",
    "Y_test = np_utils.to_categorical(y_test, nb_classes)"
   ]
  },
  {
   "cell_type": "markdown",
   "metadata": {},
   "source": [
    "Build the neural-network. Here we'll do a simple 3 layer fully connected network."
   ]
  },
  {
   "cell_type": "markdown",
   "metadata": {},
   "source": [
    "![Neural Net](figure.png)"
   ]
  },
  {
   "cell_type": "code",
   "execution_count": 265,
   "metadata": {},
   "outputs": [
    {
     "name": "stderr",
     "output_type": "stream",
     "text": [
      "WARNING:tensorflow:From /usr/local/lib/python3.7/site-packages/tensorflow/python/framework/op_def_library.py:263: colocate_with (from tensorflow.python.framework.ops) is deprecated and will be removed in a future version.\n",
      "Instructions for updating:\n",
      "Colocations handled automatically by placer.\n",
      "WARNING:tensorflow:From /usr/local/lib/python3.7/site-packages/keras/backend/tensorflow_backend.py:3445: calling dropout (from tensorflow.python.ops.nn_ops) with keep_prob is deprecated and will be removed in a future version.\n",
      "Instructions for updating:\n",
      "Please use `rate` instead of `keep_prob`. Rate should be set to `rate = 1 - keep_prob`.\n"
     ]
    }
   ],
   "source": [
    "model = Sequential()\n",
    "model.add(Dense(512, input_shape=(784,)))\n",
    "model.add(Activation('relu')) # An \"activation\" is just a non-linear function applied to the output\n",
    "                              # of the layer above. Here, with a \"rectified linear unit\",\n",
    "                              # we clamp all values below 0 to 0.\n",
    "                           \n",
    "model.add(Dropout(0.2))   # Dropout helps protect the model from memorizing or \"overfitting\" the training data\n",
    "model.add(Dense(512))\n",
    "model.add(Activation('relu'))\n",
    "model.add(Dropout(0.2))\n",
    "model.add(Dense(10))\n",
    "model.add(Activation('softmax')) # This special \"softmax\" activation among other things,\n",
    "                                 # ensures the output is a valid probaility distribution, that is\n",
    "                                 # that its values are all non-negative and sum to 1."
   ]
  },
  {
   "cell_type": "markdown",
   "metadata": {},
   "source": [
    "### Compile the model"
   ]
  },
  {
   "cell_type": "markdown",
   "metadata": {},
   "source": [
    "Keras is built on top of Theano (and now TensorFlow as well), both packages that allow you to define a computation graph in Python, which they then compile and run efficiently on the CPU or GPU without the overhead of the Python interpreter.\n",
    "\n",
    "When compiling a model, Keras asks you to specify your loss function and your optimizer. The loss function we'll use here is called categorical crossentropy, and is a loss function well-suited to comparing two probability distributions.\n",
    "\n",
    "Here our predictions are probability distributions across the ten different digits (e.g. \"we're 80% confident this image is a 3, 10% sure it's an 8, 5% it's a 2, etc.\"), and the target is a probability distribution with 100% for the correct category, and 0 for everything else. The cross-entropy is a measure of how different your predicted distribution is from the target distribution. More detail at Wikipedia\n",
    "\n",
    "The optimizer helps determine how quickly the model learns, how resistent it is to getting \"stuck\" or \"blowing up\". We won't discuss this in too much detail, but \"adam\" is often a good choice (developed here at U of T)."
   ]
  },
  {
   "cell_type": "code",
   "execution_count": 266,
   "metadata": {},
   "outputs": [],
   "source": [
    "model.compile(loss='categorical_crossentropy', optimizer='adam')\n"
   ]
  },
  {
   "cell_type": "markdown",
   "metadata": {},
   "source": [
    "### Train the model"
   ]
  },
  {
   "cell_type": "markdown",
   "metadata": {},
   "source": [
    "This is the fun part: you can feed the training data loaded in earlier into this model and it will learn to classify digits."
   ]
  },
  {
   "cell_type": "code",
   "execution_count": 269,
   "metadata": {
    "scrolled": true
   },
   "outputs": [
    {
     "name": "stderr",
     "output_type": "stream",
     "text": [
      "WARNING:tensorflow:From /usr/local/lib/python3.7/site-packages/tensorflow/python/ops/math_ops.py:3066: to_int32 (from tensorflow.python.ops.math_ops) is deprecated and will be removed in a future version.\n",
      "Instructions for updating:\n",
      "Use tf.cast instead.\n"
     ]
    },
    {
     "name": "stdout",
     "output_type": "stream",
     "text": [
      "Train on 60000 samples, validate on 10000 samples\n",
      "Epoch 1/4\n",
      "60000/60000 [==============================] - 6s 99us/step - loss: 0.2505 - val_loss: 0.1036\n",
      "Epoch 2/4\n",
      "60000/60000 [==============================] - 5s 90us/step - loss: 0.1032 - val_loss: 0.0812\n",
      "Epoch 3/4\n",
      "60000/60000 [==============================] - 5s 89us/step - loss: 0.0732 - val_loss: 0.0737\n",
      "Epoch 4/4\n",
      "60000/60000 [==============================] - 5s 87us/step - loss: 0.0571 - val_loss: 0.0790\n"
     ]
    },
    {
     "data": {
      "text/plain": [
       "<keras.callbacks.History at 0x131055f98>"
      ]
     },
     "execution_count": 269,
     "metadata": {},
     "output_type": "execute_result"
    }
   ],
   "source": [
    "model.fit(X_train, Y_train,\n",
    "          batch_size=128, epochs=4, verbose=1,\n",
    "          validation_data=(X_test, Y_test))"
   ]
  },
  {
   "cell_type": "markdown",
   "metadata": {},
   "source": [
    "### Finally, evaluate its performance."
   ]
  },
  {
   "cell_type": "code",
   "execution_count": 273,
   "metadata": {
    "scrolled": true
   },
   "outputs": [
    {
     "name": "stdout",
     "output_type": "stream",
     "text": [
      "0.07898827891027323\n"
     ]
    }
   ],
   "source": [
    "score = model.evaluate(X_test, Y_test, verbose=0)\n",
    "print(score)"
   ]
  },
  {
   "cell_type": "markdown",
   "metadata": {},
   "source": [
    "### Inspecting the output"
   ]
  },
  {
   "cell_type": "markdown",
   "metadata": {},
   "source": [
    "It's always a good idea to inspect the output and make sure everything looks sane. Here we'll look at some examples it gets right, and some examples it gets wrong."
   ]
  },
  {
   "cell_type": "code",
   "execution_count": 274,
   "metadata": {},
   "outputs": [],
   "source": [
    "# The predict_classes function outputs the highest probability class\n",
    "# according to the trained classifier for each input example.\n",
    "predicted_classes = model.predict_classes(X_test)\n",
    "\n",
    "# Check which items we got right / wrong\n",
    "correct_indices = np.nonzero(predicted_classes == y_test)[0]\n",
    "incorrect_indices = np.nonzero(predicted_classes != y_test)[0]"
   ]
  },
  {
   "cell_type": "code",
   "execution_count": 275,
   "metadata": {},
   "outputs": [
    {
     "data": {
      "image/png": "[encoded data removed]",
      "text/plain": [
       "<Figure size 504x504 with 9 Axes>"
      ]
     },
     "metadata": {
      "needs_background": "light"
     },
     "output_type": "display_data"
    },
    {
     "data": {
      "image/png": "[encoded data removed]",
      "text/plain": [
       "<Figure size 504x504 with 9 Axes>"
      ]
     },
     "metadata": {
      "needs_background": "light"
     },
     "output_type": "display_data"
    }
   ],
   "source": [
    "plt.figure()\n",
    "for i, correct in enumerate(correct_indices[:9]):\n",
    "    plt.subplot(3,3,i+1)\n",
    "    plt.imshow(X_test[correct].reshape(28,28), cmap='gray', interpolation='none')\n",
    "    plt.title(\"Predicted {}, Class {}\".format(predicted_classes[correct], y_test[correct]))\n",
    "    \n",
    "plt.figure()\n",
    "for i, incorrect in enumerate(incorrect_indices[:9]):\n",
    "    plt.subplot(3,3,i+1)\n",
    "    plt.imshow(X_test[incorrect].reshape(28,28), cmap='gray', interpolation='none')\n",
    "    plt.title(\"Predicted {}, Class {}\".format(predicted_classes[incorrect], y_test[incorrect]))"
   ]
  },
  {
   "cell_type": "markdown",
   "metadata": {},
   "source": [
    "# Glossary & References"
   ]
  },
  {
   "cell_type": "markdown",
   "metadata": {},
   "source": [
    "* Euribor, or the Euro Interbank Offer Rate, is a reference rate that is constructed from the average interest rate at which eurozone banks offer unsecured short-term lending on the inter-bank market (https://www.investopedia.com/terms/e/euribor.asp).\n",
    "* [Python Exercises](https://github.com/iitmcvg/Python-Exercises/)\n",
    "* [Prophet: forecasting at scale](https://research.fb.com/prophet-forecasting-at-scale/)\n",
    "* Last part based on: https://github.com/wxs/keras-mnist-tutorial/blob/master/MNIST%20in%20Keras.ipynb\n",
    "\n"
   ]
  },
  {
   "cell_type": "code",
   "execution_count": null,
   "metadata": {},
   "outputs": [],
   "source": []
  }
 ],
 "metadata": {
  "kernelspec": {
   "display_name": "Python 3",
   "language": "python",
   "name": "python3"
  },
  "language_info": {
   "codemirror_mode": {
    "name": "ipython",
    "version": 3
   },
   "file_extension": ".py",
   "mimetype": "text/x-python",
   "name": "python",
   "nbconvert_exporter": "python",
   "pygments_lexer": "ipython3",
   "version": "3.7.2"
  }
 },
 "nbformat": 4,
 "nbformat_minor": 2
}
